{
 "cells": [
  {
   "cell_type": "code",
   "execution_count": 17,
   "id": "c2467045",
   "metadata": {},
   "outputs": [],
   "source": [
    "def table_name_gnereator_prompt(dataframe):\n",
    "\n",
    "    # retrieving the first 3 rows only so as to not feed the entire csv into the gpt model\n",
    "    csv_sample = dataframe.head(3).to_csv(index=False)\n",
    "\n",
    "    return f\"\"\"\n",
    "    You are a smart assistant. Based on the following CSV sample, generate a short, meaningful name for the table.\n",
    "\n",
    "    Instructions:\n",
    "    - Respond with only the name — no explanation, no punctuation, and no formatting.\n",
    "    - You may use spaces and line breaks freely in your response where appropriate.\n",
    "    - Preserve the format and indentation of any input text shown.\n",
    "\n",
    "    CSV Sample:\n",
    "    {csv_sample}\n",
    "\n",
    "    Table name:\"\"\"\n",
    "\n",
    "# getting the a mini LLM to read the data\n",
    "from langchain_core.messages import AIMessage\n",
    "from config import llm_mini\n",
    "\n",
    "# function that generates a name\n",
    "def name_generator(csv_file):\n",
    "    \n",
    "    main_prompt = table_name_gnereator_prompt(csv_file)\n",
    "    main_prompt = AIMessage(content=main_prompt)\n",
    "\n",
    "    response = llm_mini.invoke([main_prompt])\n",
    "\n",
    "    return response.content\n"
   ]
  },
  {
   "cell_type": "code",
   "execution_count": 21,
   "id": "b08d5209",
   "metadata": {},
   "outputs": [],
   "source": [
    "excel_file = \"user_data.xlsx\""
   ]
  },
  {
   "cell_type": "code",
   "execution_count": 19,
   "id": "a5f17693",
   "metadata": {},
   "outputs": [
    {
     "name": "stdout",
     "output_type": "stream",
     "text": [
      "Code Completion Sample Counts\n",
      "Language Model Category Scores\n",
      "Language Model Performance on OSS vs Proprietary Data\n",
      "Language Model Code Translation Quality Metrics\n",
      "Code Translation Quality by Model and BM25\n",
      "C Sharp Code Davinci 002 Shot Source Performance\n",
      "C Sharp Code Davinci 002 BLEU Scores by Shot Source\n",
      "Identifier and Nonidentifier Accuracy by Model and Language\n"
     ]
    }
   ],
   "source": [
    "import hashlib\n",
    "import pandas as pd\n",
    "\n",
    "table_dict = {}\n",
    "\n",
    "\n",
    "# Load the Excel file\n",
    "xls = pd.ExcelFile(excel_file, engine=\"openpyxl\")\n",
    "sheet_names = xls.sheet_names\n",
    "\n",
    "for given_name in sheet_names:\n",
    "    \n",
    "    table_hash= hashlib.md5(given_name.encode()).hexdigest()[:8]\n",
    "\n",
    "    df_sheet = pd.read_excel(xls, sheet_name=given_name)\n",
    "\n",
    "    # function that reads to create a new name\n",
    "    new_name = name_generator(df_sheet)\n",
    "    print(new_name)\n",
    "\n",
    "    table_dict[table_hash] = {\n",
    "        \"given_name\": given_name,\n",
    "        \"rename_name\": new_name,\n",
    "        \"csv_data\": df_sheet.to_csv(index=False)\n",
    "    }"
   ]
  },
  {
   "cell_type": "code",
   "execution_count": 30,
   "id": "4416f461",
   "metadata": {},
   "outputs": [],
   "source": [
    "# storing these info into a summary excel\n",
    "\n",
    "import shutil\n",
    "\n",
    "# Destination file path\n",
    "intended_file = \"extracted_tables.xlsx\"\n",
    "\n",
    "# Copying the file\n",
    "try:\n",
    "    shutil.copyfile(excel_file, intended_file)\n",
    "\n",
    "except Exception as e:\n",
    "    # returning a dataframe contianing the error\n",
    "    my_string = f\"❌ Unexpected error: {e}\"\n",
    "    df = pd.DataFrame([\"Unexpected Error with reading the PDF\"], columns=[\"content\"])\n",
    "\n",
    "    print(my_string)\n",
    "    # return df\n",
    "\n",
    "# creating the summary table\n",
    "with pd.ExcelWriter(intended_file, engine=\"openpyxl\", mode=\"a\", if_sheet_exists=\"replace\") as writer:\n",
    "\n",
    "    # summary sheet\n",
    "    summary_rows = [\n",
    "        (table_hex_name, info[\"given_name\"], info[\"rename_name\"])\n",
    "        for table_hex_name, info in table_dict.items()\n",
    "    ]\n",
    "    summary_df = pd.DataFrame(summary_rows, columns=[\"table_hash\", \"given_name\", \"rename_name\"])\n",
    "    summary_df.to_excel(writer, sheet_name=\"Summary\", index=False)\n",
    "\n",
    "# printing the summary table\n",
    "# Load the summary sheet back and print it\n",
    "summary = pd.read_excel(intended_file, sheet_name=\"Summary\", engine=\"openpyxl\")"
   ]
  },
  {
   "cell_type": "code",
   "execution_count": null,
   "id": "a691c6d9",
   "metadata": {},
   "outputs": [],
   "source": []
  }
 ],
 "metadata": {
  "kernelspec": {
   "display_name": "base",
   "language": "python",
   "name": "python3"
  },
  "language_info": {
   "codemirror_mode": {
    "name": "ipython",
    "version": 3
   },
   "file_extension": ".py",
   "mimetype": "text/x-python",
   "name": "python",
   "nbconvert_exporter": "python",
   "pygments_lexer": "ipython3",
   "version": "3.13.2"
  }
 },
 "nbformat": 4,
 "nbformat_minor": 5
}
